{
 "cells": [
  {
   "cell_type": "code",
   "execution_count": 223,
   "metadata": {},
   "outputs": [
    {
     "name": "stdout",
     "output_type": "stream",
     "text": [
      "The autoreload extension is already loaded. To reload it, use:\n",
      "  %reload_ext autoreload\n"
     ]
    }
   ],
   "source": [
    "%load_ext autoreload\n",
    "%autoreload"
   ]
  },
  {
   "cell_type": "code",
   "execution_count": 224,
   "metadata": {},
   "outputs": [],
   "source": [
    "import numpy as np"
   ]
  },
  {
   "cell_type": "code",
   "execution_count": 225,
   "metadata": {},
   "outputs": [],
   "source": [
    "from pytherm_lib_pkg import m_vEoS"
   ]
  },
  {
   "cell_type": "code",
   "execution_count": 226,
   "metadata": {},
   "outputs": [],
   "source": [
    "m_vEoS?"
   ]
  },
  {
   "cell_type": "code",
   "execution_count": 227,
   "metadata": {},
   "outputs": [
    {
     "name": "stdout",
     "output_type": "stream",
     "text": [
      "VL,VV,PL,PV,phiL,phiV,HrL,HrV,SrL,SrV\n",
      "0.00011925809097026499 0.031631774678528395 99999.99999955297 99999.99999999996 [5.00323405 3.66668095] [0.99574182 0.98547797] -55685.02223197856 -468.5208796418925 -119.51186006618966 -0.7736178548842043\n"
     ]
    }
   ],
   "source": [
    "ncomp=2\n",
    "cnames=[\"ethanol\",     \"benzene\"]\n",
    "Tc = [513, 562., ] #K floats\n",
    "Pc = [61.4e5,    48.9e5, ] #Pa floats\n",
    "acentric = [0.644,    0.212, ] #dimensionless floats\n",
    "k = [[0., 0.,],\n",
    "              [0.,0.,],] #dimensionless floats\n",
    "\n",
    "eos=m_vEoS.c_vEoS(ncomp,Tc,Pc,acentric,k)\n",
    "\n",
    "T=400.    #K\n",
    "P=1e5 #Pa\n",
    "x=[0.93, 0.7,] #fração normaliada; dtype=np.float64\n",
    "VL,VV=eos.Volume(T,P,x)\n",
    "PL=eos.Pressure(T,VL,x)\n",
    "PV=eos.Pressure(T,VV,x)\n",
    "phiL=eos.fugacity_coeff(T,VL,x)\n",
    "phiV=eos.fugacity_coeff(T,VV,x)\n",
    "HrL=eos.f_H_res(T,VL,x)\n",
    "HrV=eos.f_H_res(T,VV,x)\n",
    "SrL=eos.f_S_res(T,VL,x)\n",
    "SrV=eos.f_S_res(T,VV,x)  \n",
    "print('VL,VV,PL,PV,phiL,phiV,HrL,HrV,SrL,SrV')\n",
    "print(VL,VV,PL,PV,phiL,phiV,HrL,HrV,SrL,SrV)"
   ]
  },
  {
   "cell_type": "code",
   "execution_count": 228,
   "metadata": {},
   "outputs": [],
   "source": [
    "from pytherm_lib_pkg import m_gE_NRTL"
   ]
  },
  {
   "cell_type": "code",
   "execution_count": 229,
   "metadata": {},
   "outputs": [],
   "source": [
    "m_gE_NRTL?"
   ]
  },
  {
   "cell_type": "code",
   "execution_count": 230,
   "metadata": {},
   "outputs": [],
   "source": [
    "alpha=[[0.,.4],\n",
    "       [.4,0.]]\n",
    "A=[[0.,10.],\n",
    "       [20.,0.]]\n",
    "ge = m_gE_NRTL.c_NRTL(alpha,A)"
   ]
  },
  {
   "cell_type": "code",
   "execution_count": 231,
   "metadata": {},
   "outputs": [
    {
     "data": {
      "text/plain": [
       "array([1.04957906, 1.00904854])"
      ]
     },
     "execution_count": 231,
     "metadata": {},
     "output_type": "execute_result"
    }
   ],
   "source": [
    "T=300\n",
    "x=[.3,.7]\n",
    "ge.gamma(T,x)"
   ]
  },
  {
   "cell_type": "code",
   "execution_count": 232,
   "metadata": {},
   "outputs": [],
   "source": [
    "from pytherm_lib_pkg.eqphase_pkg import VLEgammaphi_lp"
   ]
  },
  {
   "cell_type": "code",
   "execution_count": 233,
   "metadata": {},
   "outputs": [
    {
     "data": {
      "text/plain": [
       "(0.0876832994511123, 0.13799093360944398)"
      ]
     },
     "execution_count": 233,
     "metadata": {},
     "output_type": "execute_result"
    }
   ],
   "source": [
    "def psat_antoine_nist_log10pbar_tk_si(T,A,B,C):\n",
    "    return 1e5* ( 10**(A-B/(T+C)) )\n",
    "\n",
    "#ver faixa de validade\n",
    "#psatco2 = psat_antoine_nist_log10pbar_tk_si(250,6.81228,1301.,-3.494)\n",
    "psatEthanol = psat_antoine_nist_log10pbar_tk_si(300,5.37229,1670.409,-40.191)\n",
    "psatB = psat_antoine_nist_log10pbar_tk_si(300,4.01814,1203.835,-53.226)\n",
    "#usar wilson prox a pctc\n",
    "\n",
    "psatEthanol/1e5,psatB/1e5"
   ]
  },
  {
   "cell_type": "code",
   "execution_count": 240,
   "metadata": {},
   "outputs": [
    {
     "data": {
      "text/plain": [
       "(0.1210583798162448, array([0.30142364, 0.69857699]), 1.000000632264216, 2, 3)"
      ]
     },
     "execution_count": 240,
     "metadata": {},
     "output_type": "execute_result"
    }
   ],
   "source": [
    "%autoreload\n",
    "T=300\n",
    "x=[.4,.6]\n",
    "P,y,niti,nitj=VLEgammaphi_lp.BubblePy(T,x,eos,ge,[psatEthanol,psatB])\n",
    "P/1e5, y, np.sum(y),niti,nitj"
   ]
  },
  {
   "cell_type": "code",
   "execution_count": null,
   "metadata": {},
   "outputs": [],
   "source": []
  }
 ],
 "metadata": {
  "kernelspec": {
   "display_name": "Python 3",
   "language": "python",
   "name": "python3"
  },
  "language_info": {
   "codemirror_mode": {
    "name": "ipython",
    "version": 3
   },
   "file_extension": ".py",
   "mimetype": "text/x-python",
   "name": "python",
   "nbconvert_exporter": "python",
   "pygments_lexer": "ipython3",
   "version": "3.7.6"
  }
 },
 "nbformat": 4,
 "nbformat_minor": 4
}
